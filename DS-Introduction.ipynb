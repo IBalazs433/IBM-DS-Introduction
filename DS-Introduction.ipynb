{
 "cells": [
  {
   "cell_type": "markdown",
   "id": "a59df203-842d-4a29-96cb-482dbe188598",
   "metadata": {},
   "source": [
    "# Data Science Introduction - Jupyter Notebook"
   ]
  },
  {
   "cell_type": "markdown",
   "id": "c5e19eeb-0af8-4940-bcba-665cfbfd2e8d",
   "metadata": {},
   "source": [
    "## Introduction"
   ]
  },
  {
   "cell_type": "markdown",
   "id": "4726f6c7-fa09-4f8f-8a4b-31c49d0ac925",
   "metadata": {},
   "source": [
    "### Data Science Languages\n",
    "1. Python\n",
    "2. R\n",
    "3. Julia"
   ]
  },
  {
   "cell_type": "markdown",
   "id": "f1f56762-1033-48ce-a264-0ffc10c62cba",
   "metadata": {},
   "source": [
    "### Data Science Libraries\n",
    "1. Numpy\n",
    "2. Pandas\n",
    "3. Scikit-learn"
   ]
  },
  {
   "cell_type": "markdown",
   "id": "d11eff92-27bf-4dfa-9e8f-d5462f30922b",
   "metadata": {},
   "source": [
    "### Data Science Tools\n",
    "\n",
    "| Category            | Tools/Technologies                          |\n",
    "|---------------------|---------------------------------------------|\n",
    "| Programming         | Python, R, Julia                            |\n",
    "| Data Manipulation   | Pandas, dplyr, NumPy                        |\n",
    "| Data Visualization  | Matplotlib, Seaborn, ggplot2, Plotly        |\n",
    "| Machine Learning    | Scikit-learn, TensorFlow, PyTorch, XGBoost  |\n",
    "| Big Data            | Apache Spark, Hadoop                        |\n",
    "| Databases           | MySQL, PostgreSQL, MongoDB, SQLite          |\n",
    "| Development Envs    | Jupyter Notebook, RStudio, VS Code          |\n",
    "| Cloud Platforms     | AWS, Google Cloud, Microsoft Azure          |\n"
   ]
  },
  {
   "cell_type": "markdown",
   "id": "a9444f8d-9700-4d09-b51c-3fbc7f895558",
   "metadata": {},
   "source": [
    "$(13 - 2) \\cdot 6$"
   ]
  },
  {
   "cell_type": "code",
   "execution_count": 1,
   "id": "75bd24a1-5709-4176-81bd-2a9e4eb5258b",
   "metadata": {},
   "outputs": [
    {
     "data": {
      "text/plain": [
       "66"
      ]
     },
     "execution_count": 1,
     "metadata": {},
     "output_type": "execute_result"
    }
   ],
   "source": [
    "(13 - 2) * 6"
   ]
  },
  {
   "cell_type": "code",
   "execution_count": 2,
   "id": "b7561e49-bb2f-4f16-8b75-f7f3c792707b",
   "metadata": {},
   "outputs": [
    {
     "data": {
      "text/plain": [
       "1.5"
      ]
     },
     "execution_count": 2,
     "metadata": {},
     "output_type": "execute_result"
    }
   ],
   "source": [
    "# minutes to hour\n",
    "def min_to_h(mins):\n",
    "    return round(mins/60, 2)\n",
    "\n",
    "\n",
    "min_to_h(90)"
   ]
  },
  {
   "cell_type": "markdown",
   "id": "c88a460d-1e64-4d6b-a6fc-dce63a28c618",
   "metadata": {},
   "source": [
    "### Objectives\n",
    "\n",
    "- Understand the basics of Data Science tools and environments  \n",
    "- Learn how to create tables in Jupyter Notebook using Markdown  \n",
    "- Identify key tools used for data analysis, visualization, and machine learning  \n"
   ]
  },
  {
   "cell_type": "markdown",
   "id": "51f02c53-9c48-4e20-9821-dda412927af9",
   "metadata": {},
   "source": [
    "Balazs, 2025, Budapest"
   ]
  },
  {
   "cell_type": "code",
   "execution_count": null,
   "id": "6f048797-8bcd-4fb7-b12d-7bae57ceb608",
   "metadata": {},
   "outputs": [],
   "source": []
  }
 ],
 "metadata": {
  "kernelspec": {
   "display_name": "Python 3 (ipykernel)",
   "language": "python",
   "name": "python3"
  },
  "language_info": {
   "codemirror_mode": {
    "name": "ipython",
    "version": 3
   },
   "file_extension": ".py",
   "mimetype": "text/x-python",
   "name": "python",
   "nbconvert_exporter": "python",
   "pygments_lexer": "ipython3",
   "version": "3.13.5"
  }
 },
 "nbformat": 4,
 "nbformat_minor": 5
}
